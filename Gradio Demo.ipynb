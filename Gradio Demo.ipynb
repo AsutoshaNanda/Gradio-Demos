{
 "cells": [
  {
   "cell_type": "code",
   "execution_count": 1,
   "id": "1830f023-2de9-49aa-9115-e730bc24bdb9",
   "metadata": {},
   "outputs": [],
   "source": [
    "import os\n",
    "import requests\n",
    "from bs4 import BeautifulSoup\n",
    "from typing import List\n",
    "from dotenv import load_dotenv\n",
    "from openai import OpenAI\n",
    "import google.generativeai\n",
    "from IPython.display import update_display, display, Markdown\n",
    "import anthropic"
   ]
  },
  {
   "cell_type": "code",
   "execution_count": 2,
   "id": "de5fb9a0-fe6a-4ac2-bc10-85aa767c4f06",
   "metadata": {},
   "outputs": [],
   "source": [
    "import gradio as gr"
   ]
  },
  {
   "cell_type": "code",
   "execution_count": 3,
   "id": "87d125eb-4d15-4660-8b24-fa9a22ab0dce",
   "metadata": {},
   "outputs": [
    {
     "name": "stdout",
     "output_type": "stream",
     "text": [
      "OpenAI API Key exists and begins sk-proj-\n",
      "Anthropic API Key exists and begins sk-ant-\n",
      "Google API Key exists and begins AIzaSyCp\n"
     ]
    }
   ],
   "source": [
    "load_dotenv()\n",
    "openai_api_key = os.getenv('OPENAI_API_KEY')\n",
    "anthropic_api_key = os.getenv('ANTHROPIC_API_KEY')\n",
    "google_api_key = os.getenv('GOOGLE_API_KEY')\n",
    "\n",
    "if openai_api_key:\n",
    "    print(f\"OpenAI API Key exists and begins {openai_api_key[:8]}\")\n",
    "else:\n",
    "    print(\"OpenAI API Key not set\")\n",
    "    \n",
    "if anthropic_api_key:\n",
    "    print(f\"Anthropic API Key exists and begins {anthropic_api_key[:7]}\")\n",
    "else:\n",
    "    print(\"Anthropic API Key not set\")\n",
    "\n",
    "if google_api_key:\n",
    "    print(f\"Google API Key exists and begins {google_api_key[:8]}\")\n",
    "else:\n",
    "    print(\"Google API Key not set\")"
   ]
  },
  {
   "cell_type": "code",
   "execution_count": 4,
   "id": "3d4b6a14-93e5-422b-a910-c647bd52b9d8",
   "metadata": {},
   "outputs": [],
   "source": [
    "openai = OpenAI()\n",
    "claude = anthropic.Anthropic()\n",
    "google.generativeai.configure()"
   ]
  },
  {
   "cell_type": "code",
   "execution_count": 5,
   "id": "cf077bcc-8826-428a-959e-cb0c4bed9867",
   "metadata": {},
   "outputs": [],
   "source": [
    "system_prompt = \"You are a helpful assistant\""
   ]
  },
  {
   "cell_type": "code",
   "execution_count": 6,
   "id": "833bf540-e35b-44bc-ab38-a6254a27af62",
   "metadata": {},
   "outputs": [],
   "source": [
    "def message_gpt(prompt):\n",
    "    response = openai.chat.completions.create(\n",
    "        messages = [\n",
    "            {'role':'system','content':system_prompt},\n",
    "            {'role':'user','content':prompt}\n",
    "                   ],\n",
    "        model = 'gpt-4o-mini'\n",
    "    )\n",
    "    result = response.choices[0].message.content\n",
    "    return result"
   ]
  },
  {
   "cell_type": "code",
   "execution_count": 7,
   "id": "59b98bf2-169b-4222-9dbd-20584e55581c",
   "metadata": {},
   "outputs": [
    {
     "data": {
      "text/plain": [
       "'There are seven colors in a rainbow. They are commonly listed as red, orange, yellow, green, blue, indigo, and violet. These colors can be remembered by the acronym ROYGBIV.'"
      ]
     },
     "execution_count": 7,
     "metadata": {},
     "output_type": "execute_result"
    }
   ],
   "source": [
    "message_gpt(\"How many colors in rainbow are there?\")"
   ]
  },
  {
   "cell_type": "markdown",
   "id": "0c1cf7a8-cc69-434c-9fce-30fb797563e7",
   "metadata": {},
   "source": [
    "# User Interface"
   ]
  },
  {
   "cell_type": "code",
   "execution_count": 8,
   "id": "eaaf24a8-956e-44a3-80e6-af2c33ca1d51",
   "metadata": {},
   "outputs": [],
   "source": [
    "def shout(text):\n",
    "    print(f\"The text printed is :{text}\")\n",
    "    return text.upper()"
   ]
  },
  {
   "cell_type": "code",
   "execution_count": 9,
   "id": "6606d639-f29e-46c2-b978-2014bcbeba6c",
   "metadata": {},
   "outputs": [
    {
     "name": "stdout",
     "output_type": "stream",
     "text": [
      "The text printed is :longitude\n"
     ]
    },
    {
     "data": {
      "text/plain": [
       "'LONGITUDE'"
      ]
     },
     "execution_count": 9,
     "metadata": {},
     "output_type": "execute_result"
    }
   ],
   "source": [
    "shout('longitude')"
   ]
  },
  {
   "cell_type": "code",
   "execution_count": 10,
   "id": "77caf5c5-45e6-4558-86b5-d7ef6e7daa7b",
   "metadata": {},
   "outputs": [
    {
     "name": "stderr",
     "output_type": "stream",
     "text": [
      "/opt/anaconda3/envs/llms/lib/python3.11/site-packages/gradio/interface.py:414: UserWarning: The `allow_flagging` parameter in `Interface` is deprecated. Use `flagging_mode` instead.\n",
      "  warnings.warn(\n"
     ]
    },
    {
     "name": "stdout",
     "output_type": "stream",
     "text": [
      "* Running on local URL:  http://127.0.0.1:7860\n",
      "* Running on public URL: https://942d4166466ee25e64.gradio.live\n",
      "\n",
      "This share link expires in 1 week. For free permanent hosting and GPU upgrades, run `gradio deploy` from the terminal in the working directory to deploy to Hugging Face Spaces (https://huggingface.co/spaces)\n"
     ]
    },
    {
     "data": {
      "text/html": [
       "<div><iframe src=\"https://942d4166466ee25e64.gradio.live\" width=\"100%\" height=\"500\" allow=\"autoplay; camera; microphone; clipboard-read; clipboard-write;\" frameborder=\"0\" allowfullscreen></iframe></div>"
      ],
      "text/plain": [
       "<IPython.core.display.HTML object>"
      ]
     },
     "metadata": {},
     "output_type": "display_data"
    },
    {
     "data": {
      "text/plain": []
     },
     "execution_count": 10,
     "metadata": {},
     "output_type": "execute_result"
    },
    {
     "name": "stdout",
     "output_type": "stream",
     "text": [
      "The text printed is :hexo\n"
     ]
    }
   ],
   "source": [
    "gr.Interface(fn=shout, inputs='textbox',outputs='textbox',allow_flagging ='never').launch(share=True)"
   ]
  },
  {
   "cell_type": "code",
   "execution_count": 11,
   "id": "fd1a5fa8-bb2e-45f9-bbe5-39598ede882b",
   "metadata": {},
   "outputs": [
    {
     "name": "stderr",
     "output_type": "stream",
     "text": [
      "/opt/anaconda3/envs/llms/lib/python3.11/site-packages/gradio/interface.py:414: UserWarning: The `allow_flagging` parameter in `Interface` is deprecated. Use `flagging_mode` instead.\n",
      "  warnings.warn(\n"
     ]
    },
    {
     "name": "stdout",
     "output_type": "stream",
     "text": [
      "* Running on local URL:  http://127.0.0.1:7861\n",
      "* Running on public URL: https://435cccee950c318548.gradio.live\n",
      "\n",
      "This share link expires in 1 week. For free permanent hosting and GPU upgrades, run `gradio deploy` from the terminal in the working directory to deploy to Hugging Face Spaces (https://huggingface.co/spaces)\n"
     ]
    },
    {
     "data": {
      "text/html": [
       "<div><iframe src=\"https://435cccee950c318548.gradio.live\" width=\"100%\" height=\"500\" allow=\"autoplay; camera; microphone; clipboard-read; clipboard-write;\" frameborder=\"0\" allowfullscreen></iframe></div>"
      ],
      "text/plain": [
       "<IPython.core.display.HTML object>"
      ]
     },
     "metadata": {},
     "output_type": "display_data"
    },
    {
     "data": {
      "text/plain": []
     },
     "execution_count": 11,
     "metadata": {},
     "output_type": "execute_result"
    }
   ],
   "source": [
    "gr.Interface(\n",
    "    fn=shout,\n",
    "    inputs=[gr.Textbox(label='Your Message:',lines = 6)],\n",
    "    outputs=[gr.Textbox(label='Response:',lines = 8)],\n",
    "    allow_flagging='never'\n",
    ").launch(share=True)"
   ]
  },
  {
   "cell_type": "markdown",
   "id": "49994ff4-ee77-4cd1-8c47-a7282adddad3",
   "metadata": {},
   "source": [
    "# OpenAI chat interface"
   ]
  },
  {
   "cell_type": "code",
   "execution_count": 12,
   "id": "42b11dce-35ea-4fee-8fee-37be8151b4b1",
   "metadata": {},
   "outputs": [
    {
     "name": "stderr",
     "output_type": "stream",
     "text": [
      "/opt/anaconda3/envs/llms/lib/python3.11/site-packages/gradio/interface.py:414: UserWarning: The `allow_flagging` parameter in `Interface` is deprecated. Use `flagging_mode` instead.\n",
      "  warnings.warn(\n"
     ]
    },
    {
     "name": "stdout",
     "output_type": "stream",
     "text": [
      "* Running on local URL:  http://127.0.0.1:7862\n",
      "* Running on public URL: https://a6511e969ef09667ed.gradio.live\n",
      "\n",
      "This share link expires in 1 week. For free permanent hosting and GPU upgrades, run `gradio deploy` from the terminal in the working directory to deploy to Hugging Face Spaces (https://huggingface.co/spaces)\n"
     ]
    },
    {
     "data": {
      "text/html": [
       "<div><iframe src=\"https://a6511e969ef09667ed.gradio.live\" width=\"100%\" height=\"500\" allow=\"autoplay; camera; microphone; clipboard-read; clipboard-write;\" frameborder=\"0\" allowfullscreen></iframe></div>"
      ],
      "text/plain": [
       "<IPython.core.display.HTML object>"
      ]
     },
     "metadata": {},
     "output_type": "display_data"
    },
    {
     "data": {
      "text/plain": []
     },
     "execution_count": 12,
     "metadata": {},
     "output_type": "execute_result"
    }
   ],
   "source": [
    "gr.Interface(\n",
    "    fn=message_gpt,\n",
    "    inputs=[gr.Textbox(label='Your Message:',lines = 6)],\n",
    "    outputs=[gr.Textbox(label='Response:',lines = 8)],\n",
    "    allow_flagging='never'\n",
    ").launch(share=True)"
   ]
  },
  {
   "cell_type": "markdown",
   "id": "4d5260d8-c7d0-42e2-8b3f-89cf39a8c63a",
   "metadata": {},
   "source": [
    "# Results in Markdown and formatted format"
   ]
  },
  {
   "cell_type": "code",
   "execution_count": 13,
   "id": "b219697f-c468-4881-be8b-9fa4c03a0107",
   "metadata": {},
   "outputs": [
    {
     "name": "stderr",
     "output_type": "stream",
     "text": [
      "/opt/anaconda3/envs/llms/lib/python3.11/site-packages/gradio/interface.py:414: UserWarning: The `allow_flagging` parameter in `Interface` is deprecated. Use `flagging_mode` instead.\n",
      "  warnings.warn(\n"
     ]
    },
    {
     "name": "stdout",
     "output_type": "stream",
     "text": [
      "* Running on local URL:  http://127.0.0.1:7863\n",
      "* Running on public URL: https://23eb8cc15fb786ad43.gradio.live\n",
      "\n",
      "This share link expires in 1 week. For free permanent hosting and GPU upgrades, run `gradio deploy` from the terminal in the working directory to deploy to Hugging Face Spaces (https://huggingface.co/spaces)\n"
     ]
    },
    {
     "data": {
      "text/html": [
       "<div><iframe src=\"https://23eb8cc15fb786ad43.gradio.live\" width=\"100%\" height=\"500\" allow=\"autoplay; camera; microphone; clipboard-read; clipboard-write;\" frameborder=\"0\" allowfullscreen></iframe></div>"
      ],
      "text/plain": [
       "<IPython.core.display.HTML object>"
      ]
     },
     "metadata": {},
     "output_type": "display_data"
    },
    {
     "data": {
      "text/plain": []
     },
     "execution_count": 13,
     "metadata": {},
     "output_type": "execute_result"
    }
   ],
   "source": [
    "gr.Interface(\n",
    "    fn=message_gpt,\n",
    "    inputs = [gr.Textbox(label ='Your Message:',lines=8)],\n",
    "    outputs= [gr.Markdown(label ='Response:')],\n",
    "    allow_flagging='never'\n",
    ").launch(share=True)"
   ]
  },
  {
   "cell_type": "markdown",
   "id": "0a1b087a-e4ef-4a60-8640-013ba2a86df7",
   "metadata": {},
   "source": [
    "# Stream the results"
   ]
  },
  {
   "cell_type": "code",
   "execution_count": 14,
   "id": "34c11734-756e-4341-a5bc-56e1d981647a",
   "metadata": {},
   "outputs": [],
   "source": [
    "def stream_gpt(prompt):\n",
    "    stream = openai.chat.completions.create(\n",
    "        messages = [\n",
    "            {'role':'user','content':prompt},\n",
    "            {'role':'system','content':system_prompt}\n",
    "        ],\n",
    "        model = 'gpt-4o-mini',\n",
    "        stream = True\n",
    "    )\n",
    "    response = \"\"\n",
    "    for chunk in stream:\n",
    "        response += chunk.choices[0].delta.content or ''\n",
    "        response = response.replace('```','').replace('markdown','')\n",
    "        yield response"
   ]
  },
  {
   "cell_type": "code",
   "execution_count": 15,
   "id": "d1803864-82ef-4e60-bedc-49115cd4adc5",
   "metadata": {},
   "outputs": [
    {
     "name": "stderr",
     "output_type": "stream",
     "text": [
      "/opt/anaconda3/envs/llms/lib/python3.11/site-packages/gradio/interface.py:414: UserWarning: The `allow_flagging` parameter in `Interface` is deprecated. Use `flagging_mode` instead.\n",
      "  warnings.warn(\n"
     ]
    },
    {
     "name": "stdout",
     "output_type": "stream",
     "text": [
      "* Running on local URL:  http://127.0.0.1:7864\n",
      "* Running on public URL: https://0f3874b89d394389e4.gradio.live\n",
      "\n",
      "This share link expires in 1 week. For free permanent hosting and GPU upgrades, run `gradio deploy` from the terminal in the working directory to deploy to Hugging Face Spaces (https://huggingface.co/spaces)\n"
     ]
    },
    {
     "data": {
      "text/html": [
       "<div><iframe src=\"https://0f3874b89d394389e4.gradio.live\" width=\"100%\" height=\"500\" allow=\"autoplay; camera; microphone; clipboard-read; clipboard-write;\" frameborder=\"0\" allowfullscreen></iframe></div>"
      ],
      "text/plain": [
       "<IPython.core.display.HTML object>"
      ]
     },
     "metadata": {},
     "output_type": "display_data"
    },
    {
     "data": {
      "text/plain": []
     },
     "execution_count": 15,
     "metadata": {},
     "output_type": "execute_result"
    }
   ],
   "source": [
    "gr.Interface(\n",
    "    fn=stream_gpt,\n",
    "    inputs=[gr.Textbox(label = 'Your Message:',lines = 10)],\n",
    "    outputs=[gr.Markdown(label = 'Response:')],\n",
    "    allow_flagging='never'\n",
    ").launch(share=True)"
   ]
  },
  {
   "cell_type": "markdown",
   "id": "ab4d0a82-6f0b-482a-8814-6ea03871242c",
   "metadata": {},
   "source": [
    "# Bad Solution if we do stream the chunk by chunk"
   ]
  },
  {
   "cell_type": "code",
   "execution_count": 16,
   "id": "3f88fbed-7794-460f-9003-a0a3fafcb1c0",
   "metadata": {},
   "outputs": [],
   "source": [
    "def stream_gpt_chunk(prompt):\n",
    "    stream = openai.chat.completions.create(\n",
    "        messages = [\n",
    "            {'role':'user','content':prompt},\n",
    "            {'role':'system','content':system_prompt}\n",
    "        ],\n",
    "        model = 'gpt-4o-mini',\n",
    "        stream = True\n",
    "    )\n",
    "\n",
    "    for chunk in stream:  \n",
    "        yield chunk.choices[0].delta.content or ''"
   ]
  },
  {
   "cell_type": "code",
   "execution_count": 17,
   "id": "1a44c150-e8eb-4339-996a-353af6c16adc",
   "metadata": {},
   "outputs": [
    {
     "name": "stderr",
     "output_type": "stream",
     "text": [
      "/opt/anaconda3/envs/llms/lib/python3.11/site-packages/gradio/interface.py:414: UserWarning: The `allow_flagging` parameter in `Interface` is deprecated. Use `flagging_mode` instead.\n",
      "  warnings.warn(\n"
     ]
    },
    {
     "name": "stdout",
     "output_type": "stream",
     "text": [
      "* Running on local URL:  http://127.0.0.1:7865\n",
      "* Running on public URL: https://a267209fb7e1a8a198.gradio.live\n",
      "\n",
      "This share link expires in 1 week. For free permanent hosting and GPU upgrades, run `gradio deploy` from the terminal in the working directory to deploy to Hugging Face Spaces (https://huggingface.co/spaces)\n"
     ]
    },
    {
     "data": {
      "text/html": [
       "<div><iframe src=\"https://a267209fb7e1a8a198.gradio.live\" width=\"100%\" height=\"500\" allow=\"autoplay; camera; microphone; clipboard-read; clipboard-write;\" frameborder=\"0\" allowfullscreen></iframe></div>"
      ],
      "text/plain": [
       "<IPython.core.display.HTML object>"
      ]
     },
     "metadata": {},
     "output_type": "display_data"
    },
    {
     "data": {
      "text/plain": []
     },
     "execution_count": 17,
     "metadata": {},
     "output_type": "execute_result"
    }
   ],
   "source": [
    "gr.Interface(\n",
    "    fn=stream_gpt_chunk,\n",
    "    inputs=[gr.Textbox(label = 'Your Message:',lines = 10)],\n",
    "    outputs=[gr.Markdown(label = 'Response:')],\n",
    "    allow_flagging='never'\n",
    ").launch(share=True)"
   ]
  },
  {
   "cell_type": "markdown",
   "id": "6e5ab5ec-ee82-4727-9a4b-f351a1d9a9ed",
   "metadata": {},
   "source": [
    "# Anthropic Chat Interface (Streaming)"
   ]
  },
  {
   "cell_type": "code",
   "execution_count": 19,
   "id": "1f76eb14-9be1-4450-8155-44fef4e92599",
   "metadata": {},
   "outputs": [],
   "source": [
    "def stream_claude(prompt):\n",
    "    response = claude.messages.stream(\n",
    "        model ='claude-3-haiku-20240307',\n",
    "        max_tokens = 400,\n",
    "        messages = [{'role':'user','content':prompt}],\n",
    "        system=system_prompt\n",
    "    )\n",
    "    result = ''\n",
    "    with response as stream:\n",
    "        for text in stream.text_stream:\n",
    "            result += text or ''\n",
    "            yield result"
   ]
  },
  {
   "cell_type": "code",
   "execution_count": 20,
   "id": "7fdb551a-8c48-4f61-b76a-3f81f38bd506",
   "metadata": {},
   "outputs": [
    {
     "name": "stderr",
     "output_type": "stream",
     "text": [
      "/opt/anaconda3/envs/llms/lib/python3.11/site-packages/gradio/interface.py:414: UserWarning: The `allow_flagging` parameter in `Interface` is deprecated. Use `flagging_mode` instead.\n",
      "  warnings.warn(\n"
     ]
    },
    {
     "name": "stdout",
     "output_type": "stream",
     "text": [
      "* Running on local URL:  http://127.0.0.1:7866\n",
      "* Running on public URL: https://9daf871d067e476452.gradio.live\n",
      "\n",
      "This share link expires in 1 week. For free permanent hosting and GPU upgrades, run `gradio deploy` from the terminal in the working directory to deploy to Hugging Face Spaces (https://huggingface.co/spaces)\n"
     ]
    },
    {
     "data": {
      "text/html": [
       "<div><iframe src=\"https://9daf871d067e476452.gradio.live\" width=\"100%\" height=\"500\" allow=\"autoplay; camera; microphone; clipboard-read; clipboard-write;\" frameborder=\"0\" allowfullscreen></iframe></div>"
      ],
      "text/plain": [
       "<IPython.core.display.HTML object>"
      ]
     },
     "metadata": {},
     "output_type": "display_data"
    },
    {
     "data": {
      "text/plain": []
     },
     "execution_count": 20,
     "metadata": {},
     "output_type": "execute_result"
    }
   ],
   "source": [
    "gr.Interface(\n",
    "    fn = stream_claude,\n",
    "    inputs = [gr.Textbox(label = 'Your Message :',lines = 5)],\n",
    "    outputs = [gr.Markdown(label = 'Response :')],\n",
    "    allow_flagging = 'never'\n",
    ").launch(share=True)"
   ]
  },
  {
   "cell_type": "markdown",
   "id": "8ed1c8ae-2a9f-45a6-b583-09e2b1899cfb",
   "metadata": {},
   "source": [
    "# Gemini API Chat Interface"
   ]
  },
  {
   "cell_type": "code",
   "execution_count": 21,
   "id": "89acd08d-7ae2-431f-8620-5e874d4ea0ad",
   "metadata": {},
   "outputs": [],
   "source": [
    "def stream_google(prompt):\n",
    "    gemini = google.generativeai.GenerativeModel(\n",
    "        model_name='gemini-2.5-flash-lite',\n",
    "        system_instruction=system_prompt\n",
    "    )\n",
    "\n",
    "    result = gemini.generate_content(prompt, stream=True)\n",
    "\n",
    "    response = ''\n",
    "    for chunk in result:\n",
    "        if chunk.text:               \n",
    "            response += chunk.text\n",
    "            yield response"
   ]
  },
  {
   "cell_type": "code",
   "execution_count": 22,
   "id": "f233a7ab-1bcc-4869-9528-4f087a45dcd7",
   "metadata": {},
   "outputs": [
    {
     "name": "stderr",
     "output_type": "stream",
     "text": [
      "/opt/anaconda3/envs/llms/lib/python3.11/site-packages/gradio/interface.py:414: UserWarning: The `allow_flagging` parameter in `Interface` is deprecated. Use `flagging_mode` instead.\n",
      "  warnings.warn(\n"
     ]
    },
    {
     "name": "stdout",
     "output_type": "stream",
     "text": [
      "* Running on local URL:  http://127.0.0.1:7867\n",
      "* Running on public URL: https://131e1d2a76df6f7ab6.gradio.live\n",
      "\n",
      "This share link expires in 1 week. For free permanent hosting and GPU upgrades, run `gradio deploy` from the terminal in the working directory to deploy to Hugging Face Spaces (https://huggingface.co/spaces)\n"
     ]
    },
    {
     "data": {
      "text/html": [
       "<div><iframe src=\"https://131e1d2a76df6f7ab6.gradio.live\" width=\"100%\" height=\"500\" allow=\"autoplay; camera; microphone; clipboard-read; clipboard-write;\" frameborder=\"0\" allowfullscreen></iframe></div>"
      ],
      "text/plain": [
       "<IPython.core.display.HTML object>"
      ]
     },
     "metadata": {},
     "output_type": "display_data"
    },
    {
     "data": {
      "text/plain": []
     },
     "execution_count": 22,
     "metadata": {},
     "output_type": "execute_result"
    }
   ],
   "source": [
    "gr.Interface(\n",
    "    fn = stream_google,\n",
    "    inputs=[gr.Textbox(label='Your Message:',lines = 5)],\n",
    "    outputs = [gr.Markdown(label ='Response:')],\n",
    "    allow_flagging = 'never'\n",
    ").launch(share=True)"
   ]
  },
  {
   "cell_type": "code",
   "execution_count": 23,
   "id": "ee3b6789-6777-4dbe-a355-abab16518764",
   "metadata": {},
   "outputs": [],
   "source": [
    "def stream_model(prompt,model):\n",
    "    if model == 'GPT':\n",
    "        result = stream_gpt(prompt)\n",
    "    elif model =='Claude':\n",
    "        result = stream_claude(prompt)\n",
    "    elif model == 'Gemini':\n",
    "        result = stream_google(prompt)\n",
    "    else:\n",
    "        raise ValueError(\"Unknown Model\")\n",
    "    yield from result"
   ]
  },
  {
   "cell_type": "code",
   "execution_count": 24,
   "id": "fc32449b-1b3a-4846-a393-b54f602407a3",
   "metadata": {},
   "outputs": [
    {
     "name": "stdout",
     "output_type": "stream",
     "text": [
      "* Running on local URL:  http://127.0.0.1:7868\n",
      "* Running on public URL: https://37ba4d0fb324ddf3f1.gradio.live\n",
      "\n",
      "This share link expires in 1 week. For free permanent hosting and GPU upgrades, run `gradio deploy` from the terminal in the working directory to deploy to Hugging Face Spaces (https://huggingface.co/spaces)\n"
     ]
    },
    {
     "data": {
      "text/html": [
       "<div><iframe src=\"https://37ba4d0fb324ddf3f1.gradio.live\" width=\"100%\" height=\"500\" allow=\"autoplay; camera; microphone; clipboard-read; clipboard-write;\" frameborder=\"0\" allowfullscreen></iframe></div>"
      ],
      "text/plain": [
       "<IPython.core.display.HTML object>"
      ]
     },
     "metadata": {},
     "output_type": "display_data"
    },
    {
     "data": {
      "text/plain": []
     },
     "execution_count": 24,
     "metadata": {},
     "output_type": "execute_result"
    }
   ],
   "source": [
    "view = gr.Interface(\n",
    "    fn=stream_model,\n",
    "    inputs=[gr.Textbox(label=\"Your message:\"), gr.Dropdown([\"GPT\", \"Claude\",\"Gemini\"], label=\"Select model\")],\n",
    "    outputs=[gr.Markdown(label=\"Response:\")],\n",
    "    flagging_mode=\"never\"\n",
    ")\n",
    "view.launch(share=True)"
   ]
  }
 ],
 "metadata": {
  "kernelspec": {
   "display_name": "Python 3 (ipykernel)",
   "language": "python",
   "name": "python3"
  },
  "language_info": {
   "codemirror_mode": {
    "name": "ipython",
    "version": 3
   },
   "file_extension": ".py",
   "mimetype": "text/x-python",
   "name": "python",
   "nbconvert_exporter": "python",
   "pygments_lexer": "ipython3",
   "version": "3.11.13"
  }
 },
 "nbformat": 4,
 "nbformat_minor": 5
}
